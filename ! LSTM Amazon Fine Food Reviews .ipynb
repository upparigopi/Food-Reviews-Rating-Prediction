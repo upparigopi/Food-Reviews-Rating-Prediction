{
 "cells": [
  {
   "cell_type": "code",
   "execution_count": 1,
   "metadata": {},
   "outputs": [],
   "source": [
    "import warnings\n",
    "warnings.filterwarnings('ignore')"
   ]
  },
  {
   "cell_type": "code",
   "execution_count": 2,
   "metadata": {},
   "outputs": [
    {
     "name": "stderr",
     "output_type": "stream",
     "text": [
      "Using TensorFlow backend.\n"
     ]
    }
   ],
   "source": [
    "import pandas as pd \n",
    "import re\n",
    "from keras.preprocessing.text import Tokenizer\n",
    "from keras.preprocessing.sequence import pad_sequences\n",
    "from sklearn.model_selection import train_test_split\n",
    "\n",
    "import tensorflow as tf\n",
    "import numpy as np"
   ]
  },
  {
   "cell_type": "code",
   "execution_count": 3,
   "metadata": {},
   "outputs": [
    {
     "name": "stdout",
     "output_type": "stream",
     "text": [
      "Shape of the data (568454, 10)\n",
      "Number of datapoints 568454\n",
      "Number of features 10\n"
     ]
    }
   ],
   "source": [
    "# loading the data\n",
    "df = pd.read_csv(\"old/Reviews/Reviews1.csv\")\n",
    "print(\"Shape of the data \"+str(df.shape))\n",
    "print(\"Number of datapoints \"+str(df.shape[0]))\n",
    "print(\"Number of features \"+str(df.shape[1]))"
   ]
  },
  {
   "cell_type": "code",
   "execution_count": 4,
   "metadata": {},
   "outputs": [
    {
     "data": {
      "text/html": [
       "<div>\n",
       "<style scoped>\n",
       "    .dataframe tbody tr th:only-of-type {\n",
       "        vertical-align: middle;\n",
       "    }\n",
       "\n",
       "    .dataframe tbody tr th {\n",
       "        vertical-align: top;\n",
       "    }\n",
       "\n",
       "    .dataframe thead th {\n",
       "        text-align: right;\n",
       "    }\n",
       "</style>\n",
       "<table border=\"1\" class=\"dataframe\">\n",
       "  <thead>\n",
       "    <tr style=\"text-align: right;\">\n",
       "      <th></th>\n",
       "      <th>Id</th>\n",
       "      <th>ProductId</th>\n",
       "      <th>UserId</th>\n",
       "      <th>ProfileName</th>\n",
       "      <th>HelpfulnessNumerator</th>\n",
       "      <th>HelpfulnessDenominator</th>\n",
       "      <th>Score</th>\n",
       "      <th>Time</th>\n",
       "      <th>Summary</th>\n",
       "      <th>Text</th>\n",
       "    </tr>\n",
       "  </thead>\n",
       "  <tbody>\n",
       "    <tr>\n",
       "      <th>0</th>\n",
       "      <td>1</td>\n",
       "      <td>B001E4KFG0</td>\n",
       "      <td>A3SGXH7AUHU8GW</td>\n",
       "      <td>delmartian</td>\n",
       "      <td>1</td>\n",
       "      <td>1</td>\n",
       "      <td>5</td>\n",
       "      <td>1303862400</td>\n",
       "      <td>Good Quality Dog Food</td>\n",
       "      <td>I have bought several of the Vitality canned d...</td>\n",
       "    </tr>\n",
       "    <tr>\n",
       "      <th>1</th>\n",
       "      <td>2</td>\n",
       "      <td>B00813GRG4</td>\n",
       "      <td>A1D87F6ZCVE5NK</td>\n",
       "      <td>dll pa</td>\n",
       "      <td>0</td>\n",
       "      <td>0</td>\n",
       "      <td>1</td>\n",
       "      <td>1346976000</td>\n",
       "      <td>Not as Advertised</td>\n",
       "      <td>Product arrived labeled as Jumbo Salted Peanut...</td>\n",
       "    </tr>\n",
       "    <tr>\n",
       "      <th>2</th>\n",
       "      <td>3</td>\n",
       "      <td>B000LQOCH0</td>\n",
       "      <td>ABXLMWJIXXAIN</td>\n",
       "      <td>Natalia Corres \"Natalia Corres\"</td>\n",
       "      <td>1</td>\n",
       "      <td>1</td>\n",
       "      <td>4</td>\n",
       "      <td>1219017600</td>\n",
       "      <td>\"Delight\" says it all</td>\n",
       "      <td>This is a confection that has been around a fe...</td>\n",
       "    </tr>\n",
       "    <tr>\n",
       "      <th>3</th>\n",
       "      <td>4</td>\n",
       "      <td>B000UA0QIQ</td>\n",
       "      <td>A395BORC6FGVXV</td>\n",
       "      <td>Karl</td>\n",
       "      <td>3</td>\n",
       "      <td>3</td>\n",
       "      <td>2</td>\n",
       "      <td>1307923200</td>\n",
       "      <td>Cough Medicine</td>\n",
       "      <td>If you are looking for the secret ingredient i...</td>\n",
       "    </tr>\n",
       "    <tr>\n",
       "      <th>4</th>\n",
       "      <td>5</td>\n",
       "      <td>B006K2ZZ7K</td>\n",
       "      <td>A1UQRSCLF8GW1T</td>\n",
       "      <td>Michael D. Bigham \"M. Wassir\"</td>\n",
       "      <td>0</td>\n",
       "      <td>0</td>\n",
       "      <td>5</td>\n",
       "      <td>1350777600</td>\n",
       "      <td>Great taffy</td>\n",
       "      <td>Great taffy at a great price.  There was a wid...</td>\n",
       "    </tr>\n",
       "  </tbody>\n",
       "</table>\n",
       "</div>"
      ],
      "text/plain": [
       "   Id   ProductId          UserId                      ProfileName  \\\n",
       "0   1  B001E4KFG0  A3SGXH7AUHU8GW                       delmartian   \n",
       "1   2  B00813GRG4  A1D87F6ZCVE5NK                           dll pa   \n",
       "2   3  B000LQOCH0   ABXLMWJIXXAIN  Natalia Corres \"Natalia Corres\"   \n",
       "3   4  B000UA0QIQ  A395BORC6FGVXV                             Karl   \n",
       "4   5  B006K2ZZ7K  A1UQRSCLF8GW1T    Michael D. Bigham \"M. Wassir\"   \n",
       "\n",
       "   HelpfulnessNumerator  HelpfulnessDenominator  Score        Time  \\\n",
       "0                     1                       1      5  1303862400   \n",
       "1                     0                       0      1  1346976000   \n",
       "2                     1                       1      4  1219017600   \n",
       "3                     3                       3      2  1307923200   \n",
       "4                     0                       0      5  1350777600   \n",
       "\n",
       "                 Summary                                               Text  \n",
       "0  Good Quality Dog Food  I have bought several of the Vitality canned d...  \n",
       "1      Not as Advertised  Product arrived labeled as Jumbo Salted Peanut...  \n",
       "2  \"Delight\" says it all  This is a confection that has been around a fe...  \n",
       "3         Cough Medicine  If you are looking for the secret ingredient i...  \n",
       "4            Great taffy  Great taffy at a great price.  There was a wid...  "
      ]
     },
     "execution_count": 4,
     "metadata": {},
     "output_type": "execute_result"
    }
   ],
   "source": [
    "#How data looks like with the sample points\n",
    "df.head()"
   ]
  },
  {
   "cell_type": "code",
   "execution_count": 5,
   "metadata": {},
   "outputs": [
    {
     "data": {
      "text/plain": [
       "array(['Id', 'ProductId', 'UserId', 'ProfileName', 'HelpfulnessNumerator',\n",
       "       'HelpfulnessDenominator', 'Score', 'Time', 'Summary', 'Text'],\n",
       "      dtype=object)"
      ]
     },
     "execution_count": 5,
     "metadata": {},
     "output_type": "execute_result"
    }
   ],
   "source": [
    "#Feature names\n",
    "df.columns.values"
   ]
  },
  {
   "cell_type": "code",
   "execution_count": 6,
   "metadata": {},
   "outputs": [
    {
     "data": {
      "text/plain": [
       "5    363122\n",
       "4     80655\n",
       "1     52268\n",
       "3     42640\n",
       "2     29769\n",
       "Name: Score, dtype: int64"
      ]
     },
     "execution_count": 6,
     "metadata": {},
     "output_type": "execute_result"
    }
   ],
   "source": [
    "# By this we can say that given dataset is imbalanced or balanced\n",
    "df.Score.value_counts()"
   ]
  },
  {
   "cell_type": "code",
   "execution_count": 7,
   "metadata": {},
   "outputs": [],
   "source": [
    "#Removing the reviews whose score should be 3\n",
    "df = df[df['Score']!=3]\n",
    "# Splitting the review based on the space and finding the length for each review in the data\n",
    "df['len_words'] = df.Text.apply(lambda x: len(x.split()))\n",
    "# Keeping the reviews, only the words in the review lessthan or equal to the 100 \n",
    "df = df[df['len_words'] <= 100]"
   ]
  },
  {
   "cell_type": "code",
   "execution_count": 8,
   "metadata": {},
   "outputs": [
    {
     "data": {
      "text/html": [
       "<div>\n",
       "<style scoped>\n",
       "    .dataframe tbody tr th:only-of-type {\n",
       "        vertical-align: middle;\n",
       "    }\n",
       "\n",
       "    .dataframe tbody tr th {\n",
       "        vertical-align: top;\n",
       "    }\n",
       "\n",
       "    .dataframe thead th {\n",
       "        text-align: right;\n",
       "    }\n",
       "</style>\n",
       "<table border=\"1\" class=\"dataframe\">\n",
       "  <thead>\n",
       "    <tr style=\"text-align: right;\">\n",
       "      <th></th>\n",
       "      <th>Text</th>\n",
       "      <th>Score</th>\n",
       "    </tr>\n",
       "  </thead>\n",
       "  <tbody>\n",
       "    <tr>\n",
       "      <th>0</th>\n",
       "      <td>I have bought several of the Vitality canned d...</td>\n",
       "      <td>5</td>\n",
       "    </tr>\n",
       "    <tr>\n",
       "      <th>1</th>\n",
       "      <td>Product arrived labeled as Jumbo Salted Peanut...</td>\n",
       "      <td>1</td>\n",
       "    </tr>\n",
       "    <tr>\n",
       "      <th>2</th>\n",
       "      <td>This is a confection that has been around a fe...</td>\n",
       "      <td>4</td>\n",
       "    </tr>\n",
       "    <tr>\n",
       "      <th>3</th>\n",
       "      <td>If you are looking for the secret ingredient i...</td>\n",
       "      <td>2</td>\n",
       "    </tr>\n",
       "    <tr>\n",
       "      <th>4</th>\n",
       "      <td>Great taffy at a great price.  There was a wid...</td>\n",
       "      <td>5</td>\n",
       "    </tr>\n",
       "  </tbody>\n",
       "</table>\n",
       "</div>"
      ],
      "text/plain": [
       "                                                Text  Score\n",
       "0  I have bought several of the Vitality canned d...      5\n",
       "1  Product arrived labeled as Jumbo Salted Peanut...      1\n",
       "2  This is a confection that has been around a fe...      4\n",
       "3  If you are looking for the secret ingredient i...      2\n",
       "4  Great taffy at a great price.  There was a wid...      5"
      ]
     },
     "execution_count": 8,
     "metadata": {},
     "output_type": "execute_result"
    }
   ],
   "source": [
    "# Storing the text column and corresponding label\n",
    "data = df[['Text', 'Score']]\n",
    "data.head()"
   ]
  },
  {
   "cell_type": "code",
   "execution_count": 9,
   "metadata": {},
   "outputs": [
    {
     "data": {
      "text/html": [
       "<div>\n",
       "<style scoped>\n",
       "    .dataframe tbody tr th:only-of-type {\n",
       "        vertical-align: middle;\n",
       "    }\n",
       "\n",
       "    .dataframe tbody tr th {\n",
       "        vertical-align: top;\n",
       "    }\n",
       "\n",
       "    .dataframe thead th {\n",
       "        text-align: right;\n",
       "    }\n",
       "</style>\n",
       "<table border=\"1\" class=\"dataframe\">\n",
       "  <thead>\n",
       "    <tr style=\"text-align: right;\">\n",
       "      <th></th>\n",
       "      <th>Text</th>\n",
       "      <th>Score</th>\n",
       "      <th>sentiment</th>\n",
       "    </tr>\n",
       "  </thead>\n",
       "  <tbody>\n",
       "    <tr>\n",
       "      <th>0</th>\n",
       "      <td>i have bought several of the vitality canned d...</td>\n",
       "      <td>5</td>\n",
       "      <td>1</td>\n",
       "    </tr>\n",
       "    <tr>\n",
       "      <th>1</th>\n",
       "      <td>product arrived labeled as jumbo salted peanut...</td>\n",
       "      <td>1</td>\n",
       "      <td>0</td>\n",
       "    </tr>\n",
       "    <tr>\n",
       "      <th>2</th>\n",
       "      <td>this is a confection that has been around a fe...</td>\n",
       "      <td>4</td>\n",
       "      <td>1</td>\n",
       "    </tr>\n",
       "    <tr>\n",
       "      <th>3</th>\n",
       "      <td>if you are looking for the secret ingredient i...</td>\n",
       "      <td>2</td>\n",
       "      <td>0</td>\n",
       "    </tr>\n",
       "    <tr>\n",
       "      <th>4</th>\n",
       "      <td>great taffy at a great price  there was a wide...</td>\n",
       "      <td>5</td>\n",
       "      <td>1</td>\n",
       "    </tr>\n",
       "  </tbody>\n",
       "</table>\n",
       "</div>"
      ],
      "text/plain": [
       "                                                Text  Score  sentiment\n",
       "0  i have bought several of the vitality canned d...      5          1\n",
       "1  product arrived labeled as jumbo salted peanut...      1          0\n",
       "2  this is a confection that has been around a fe...      4          1\n",
       "3  if you are looking for the secret ingredient i...      2          0\n",
       "4  great taffy at a great price  there was a wide...      5          1"
      ]
     },
     "execution_count": 9,
     "metadata": {},
     "output_type": "execute_result"
    }
   ],
   "source": [
    "# We are making the ratings above 3 making as 1 and below 3 as 0\n",
    "data['sentiment']=[1 if (x>3) else 0 for x in data['Score']]\n",
    "# converting the each review into lower_case letters\n",
    "data['Text']= [x.lower() for x in data['Text']]\n",
    "\n",
    "data['Text'] = data['Text'].apply((lambda x: re.sub('[^a-zA-z0-9\\s]','',x)))\n",
    "data.head()"
   ]
  },
  {
   "cell_type": "code",
   "execution_count": 10,
   "metadata": {},
   "outputs": [
    {
     "data": {
      "text/plain": [
       "(403797, 3)"
      ]
     },
     "execution_count": 10,
     "metadata": {},
     "output_type": "execute_result"
    }
   ],
   "source": [
    "#Shape of the data\n",
    "data.shape"
   ]
  },
  {
   "cell_type": "code",
   "execution_count": 11,
   "metadata": {},
   "outputs": [],
   "source": [
    "tokenizer = Tokenizer(nb_words=10000, filters='!\"#$%&()*+,-./:;<=>?@[\\\\]^_`{|}~\\t\\n',\n",
    "                                   lower=True,split=' ')\n",
    "tokenizer.fit_on_texts(data['Text'].values)\n",
    "X = tokenizer.texts_to_sequences(data['Text'].values)\n",
    "X = pad_sequences(X)\n",
    "Y = pd.get_dummies(data['sentiment']).values"
   ]
  },
  {
   "cell_type": "code",
   "execution_count": 12,
   "metadata": {},
   "outputs": [
    {
     "name": "stdout",
     "output_type": "stream",
     "text": [
      "i have bought several of the vitality canned dog food products and have found them all to be of good quality the product looks more like a stew than a processed meat and it smells better my labrador is finicky and she appreciates this product better than  most\n",
      "************************* Corresponding List of tokens for this review *************************\n",
      "[   0    0    0    0    0    0    0    0    0    0    0    0    0    0\n",
      "    0    0    0    0    0    0    0    0    0    0    0    0    0    0\n",
      "    0    0    0    0    0    0    0    0    0    0    0    0    0    0\n",
      "    0    0    0    0    0    0    0    0    0    0    2   13  106  293\n",
      "    9    1 5344  589   99   66  212    3   13  111   28   41    6   39\n",
      "    9   29  172    1   35  608   51   23    4 2801   55    4 1346  530\n",
      "    3    5  526   85   12 4693    8 1621    3  105 7360    7   35   85\n",
      "   55  161]\n"
     ]
    }
   ],
   "source": [
    "# Text data for one sample before list of tokens\n",
    "print(data['Text'].loc[0])\n",
    "print(\"*\"*25, \"Corresponding List of tokens for this review\",\"*\"*25)\n",
    "# Corresponding review after padding with list of tokens\n",
    "print(X[0])"
   ]
  },
  {
   "cell_type": "code",
   "execution_count": 13,
   "metadata": {},
   "outputs": [
    {
     "name": "stdout",
     "output_type": "stream",
     "text": [
      "Token number for a word 'than' is 55\n",
      "Token number for a word 'most' is 161\n"
     ]
    }
   ],
   "source": [
    "#tokenizer.word_index['than'],tokenizer.word_index['most']\n",
    "# Token number for each word\n",
    "print(\"Token number for a word 'than' is \"+str(tokenizer.word_index['than']))\n",
    "print(\"Token number for a word 'most' is \"+str(tokenizer.word_index['most']))"
   ]
  },
  {
   "cell_type": "code",
   "execution_count": 14,
   "metadata": {},
   "outputs": [
    {
     "name": "stdout",
     "output_type": "stream",
     "text": [
      "Shape of X (403797, 100)\n",
      "Shape of y (403797, 2)\n"
     ]
    }
   ],
   "source": [
    "print(\"Shape of X \"+str(X.shape))\n",
    "print(\"Shape of y \"+str(Y.shape))"
   ]
  },
  {
   "cell_type": "code",
   "execution_count": 15,
   "metadata": {},
   "outputs": [
    {
     "name": "stdout",
     "output_type": "stream",
     "text": [
      "Given dataset is an imbalance:\n",
      "percentage of positive class datapoints in the dataset 85.2799797918261\n",
      "percentage of negative class datapoints in the dataset 14.720020208173906\n"
     ]
    }
   ],
   "source": [
    "vals = [1 if each > 3 else 0 for each in data['Score'].values]\n",
    "print(\"Given dataset is an imbalance:\")\n",
    "print(\"percentage of positive class datapoints in the dataset \" +str(100*sum(vals)/len(vals)))\n",
    "print(\"percentage of negative class datapoints in the dataset \"+str(100-(100*sum(vals)/len(vals))))"
   ]
  },
  {
   "cell_type": "code",
   "execution_count": 16,
   "metadata": {},
   "outputs": [
    {
     "name": "stdout",
     "output_type": "stream",
     "text": [
      "Shape of X_tr (258429, 100) and Y_tr (258429,)\n",
      "Shape of X_eval (64608, 100) and Y_eval (64608,)\n",
      "Shape of X_test (80760, 100) and Y_test (80760,)\n"
     ]
    }
   ],
   "source": [
    "# Splitting the data into train and test\n",
    "X_train, X_test, Y_train, Y_test = train_test_split(X,data.sentiment, test_size = 0.2, random_state = 42, shuffle=False)\n",
    "X_tr, X_eval, Y_tr, Y_eval = train_test_split(X_train, Y_train, test_size=0.2, random_state=42, shuffle=False)\n",
    "print(\"Shape of X_tr {} and Y_tr {}\".format(X_tr.shape,Y_tr.shape))\n",
    "print(\"Shape of X_eval {} and Y_eval {}\".format(X_eval.shape,Y_eval.shape))\n",
    "print(\"Shape of X_test {} and Y_test {}\".format(X_test.shape,Y_test.shape))"
   ]
  },
  {
   "cell_type": "markdown",
   "metadata": {},
   "source": [
    "### Training the model using the LSTM :"
   ]
  },
  {
   "cell_type": "code",
   "execution_count": 17,
   "metadata": {},
   "outputs": [],
   "source": [
    "# Define Inputs and Hyperparameters\n",
    "n_words = 10000\n",
    "embed_size = 200#input to lstm\n",
    "batch_size = 50\n",
    "lstm_sizes = [256]##hidden size -> need not same size as input\n",
    "dropout=0.5\n",
    "learning_rate= 0.001\n",
    "\n",
    "\n",
    "tf.reset_default_graph()\n",
    "\n",
    "### Creating the model input parameters ###\n",
    "inputs = tf.placeholder(tf.int32, [None, None], name='inputs')\n",
    "labels = tf.placeholder(tf.int32, [None, None], name='labels')\n",
    "keep_prob_ = tf.placeholder(tf.float32, name='keep_prob')\n",
    "\n",
    "### Embedding Layer ###\n",
    "embedding = tf.Variable(tf.random_uniform((n_words, embed_size), -1, 1)) ##-1 because you don't know the batch size\n",
    "##if multiple RNN layers are use try tf.Variable(tf.random_uniform((n_words, embed_size), -1)) instead\n",
    "embed = tf.nn.embedding_lookup(embedding, inputs)\n",
    "\n",
    "\n",
    "### Building the lstm layers ###\n",
    "multi_RNN = []\n",
    "for each in lstm_sizes:\n",
    "    lstm = tf.contrib.rnn.LSTMCell(each)\n",
    "    drop = tf.contrib.rnn.DropoutWrapper(lstm, output_keep_prob=keep_prob_)##dropout is like a special LSTM with a wrapper around normal LSTM\n",
    "    multi_RNN.append(drop)\n",
    "cell = tf.contrib.rnn.MultiRNNCell(multi_RNN)\n",
    "\n",
    "# Getting an initial state of all zeros\n",
    "initial_state = cell.zero_state(batch_size, tf.float32)\n",
    "\n",
    "# Run the data through the RNN layers\n",
    "outputs, states = tf.nn.dynamic_rnn(cell, embed, initial_state=initial_state)\n",
    "\n",
    "# Create the fully connected layers\n",
    "predictions = tf.contrib.layers.fully_connected(outputs[:, -1],\n",
    "                                          num_outputs = 1,\n",
    "                                          activation_fn = tf.sigmoid,\n",
    "                                          weights_initializer = tf.truncated_normal_initializer(stddev=0.1))\n",
    "\n",
    "# # Calculate the cost\n",
    "cost = tf.losses.mean_squared_error(labels, predictions)\n",
    "\n",
    "# # Train the model\n",
    "optimizer = tf.train.AdamOptimizer(learning_rate=learning_rate)\n",
    "train_op = optimizer.minimize(cost)\n",
    "\n",
    "# # Determine the accuracy\n",
    "correct_pred = tf.equal(tf.cast(tf.round(predictions), tf.int32), labels)\n",
    "accuracy = tf.reduce_mean(tf.cast(correct_pred, tf.float32))"
   ]
  },
  {
   "cell_type": "code",
   "execution_count": 18,
   "metadata": {},
   "outputs": [],
   "source": [
    "def get_batches(x, y, batch_size):\n",
    "    '''Create the batches for the training and validation data'''\n",
    "    n_batches = len(x)//batch_size\n",
    "    x, y = x[:n_batches*batch_size], y[:n_batches*batch_size]\n",
    "    for ii in range(0, len(x), batch_size):\n",
    "        yield x[ii:ii+batch_size], y[ii:ii+batch_size]"
   ]
  },
  {
   "cell_type": "code",
   "execution_count": 20,
   "metadata": {},
   "outputs": [],
   "source": [
    "# gpu_options = tf.GPUOptions(per_process_gpu_memory_fraction=0.3)\n",
    "# sess = tf.Session(config=tf.ConfigProto(\n",
    "#   allow_soft_placement=True, log_device_placement=True))"
   ]
  },
  {
   "cell_type": "code",
   "execution_count": 21,
   "metadata": {},
   "outputs": [],
   "source": [
    "# if 'session' in locals() and session is not None:\n",
    "#     print('Close interactive session')\n",
    "#     session.close()"
   ]
  },
  {
   "cell_type": "code",
   "execution_count": 29,
   "metadata": {},
   "outputs": [
    {
     "name": "stdout",
     "output_type": "stream",
     "text": [
      "Epoch: 1/15... Train Loss: 0.051... Val Loss: 0.034... Train Accruacy: 0.934... Val Accuracy: 0.956\n",
      "Epoch: 2/15... Train Loss: 0.027... Val Loss: 0.028... Train Accruacy: 0.966... Val Accuracy: 0.964\n",
      "Epoch: 3/15... Train Loss: 0.019... Val Loss: 0.030... Train Accruacy: 0.977... Val Accuracy: 0.963\n",
      "Epoch: 4/15... Train Loss: 0.014... Val Loss: 0.029... Train Accruacy: 0.984... Val Accuracy: 0.966\n",
      "Epoch: 5/15... Train Loss: 0.011... Val Loss: 0.029... Train Accruacy: 0.987... Val Accuracy: 0.967\n",
      "Epoch: 6/15... Train Loss: 0.009... Val Loss: 0.028... Train Accruacy: 0.990... Val Accuracy: 0.967\n",
      "Epoch: 7/15... Train Loss: 0.008... Val Loss: 0.029... Train Accruacy: 0.991... Val Accuracy: 0.967\n",
      "Epoch: 8/15... Train Loss: 0.008... Val Loss: 0.029... Train Accruacy: 0.991... Val Accuracy: 0.967\n",
      "Epoch: 9/15... Train Loss: 0.007... Val Loss: 0.029... Train Accruacy: 0.992... Val Accuracy: 0.967\n",
      "Epoch: 10/15... Train Loss: 0.007... Val Loss: 0.028... Train Accruacy: 0.993... Val Accuracy: 0.968\n",
      "Epoch: 11/15... Train Loss: 0.007... Val Loss: 0.029... Train Accruacy: 0.993... Val Accuracy: 0.967\n",
      "Epoch: 12/15... Train Loss: 0.006... Val Loss: 0.029... Train Accruacy: 0.993... Val Accuracy: 0.967\n",
      "Epoch: 13/15... Train Loss: 0.006... Val Loss: 0.030... Train Accruacy: 0.993... Val Accuracy: 0.966\n",
      "Epoch: 14/15... Train Loss: 0.006... Val Loss: 0.031... Train Accruacy: 0.993... Val Accuracy: 0.965\n",
      "Epoch: 15/15... Train Loss: 0.006... Val Loss: 0.029... Train Accruacy: 0.994... Val Accuracy: 0.968\n"
     ]
    }
   ],
   "source": [
    "init = tf.global_variables_initializer()\n",
    "epochs = 15\n",
    "\n",
    "# create saver object\n",
    "saver = tf.train.Saver()\n",
    "\n",
    "# Start training\n",
    "with tf.Session() as sess:\n",
    "    sess.run(init)\n",
    "    train_accuracy = []\n",
    "    cv_accuracy = []\n",
    "    train_loss = []\n",
    "    cv_loss = []\n",
    "    for epoch in range(epochs):\n",
    "        train_acc = []\n",
    "        tr_loss = []\n",
    "        for ind,(x_,y_) in enumerate(get_batches(X_tr,Y_tr.values[:,None],batch_size=batch_size)):\n",
    "            loss_val,acc_val,_ = sess.run([cost,accuracy,train_op], feed_dict={inputs: x_,\n",
    "                                                         labels: y_,keep_prob_: 0.5})\n",
    "            train_acc.append(acc_val)\n",
    "            tr_loss.append(loss_val)\n",
    "        train_loss.append(np.mean(tr_loss))\n",
    "        train_accuracy.append(np.mean(train_acc))\n",
    "\n",
    "#             if ind%1000 == 0:\n",
    "#                 print(\"Epoch->{}, iteration-> {} :\".format(epoch,ind),loss_val,acc_val)\n",
    "        #if (epoch)%5 == 0:\n",
    "        val_acc = []\n",
    "        val_loss = []\n",
    "        val_state = sess.run(cell.zero_state(batch_size, tf.float32))\n",
    "        for i, (x_, y_) in enumerate(get_batches(X_eval, Y_eval.values[:,None], batch_size=batch_size)):\n",
    "            eval_loss, eval_acc, val_state, pred = sess.run([cost, accuracy, states, predictions], feed_dict={inputs:x_, labels:y_, keep_prob_:0.5})\n",
    "            val_acc.append(eval_acc)\n",
    "            val_loss.append(eval_loss)\n",
    "        cv_accuracy.append(np.mean(val_acc))\n",
    "        cv_loss.append(np.mean(val_loss))\n",
    "        print(\"Epoch: {}/{}...\".format(epoch+1, epochs),\n",
    "                              \"Train Loss: {:.3f}...\".format(np.mean(tr_loss)),\n",
    "                              \"Val Loss: {:.3f}...\".format(np.mean(val_loss)),\n",
    "                              \"Train Accruacy: {:.3f}...\".format(np.mean(train_acc)),\n",
    "                              \"Val Accuracy: {:.3f}\".format(np.mean(val_acc))) \n",
    "    saver.save(sess, \"./tmp2/model.ckpt\",global_step=1000)"
   ]
  },
  {
   "cell_type": "code",
   "execution_count": 30,
   "metadata": {},
   "outputs": [],
   "source": [
    "import matplotlib.pyplot as plt"
   ]
  },
  {
   "cell_type": "code",
   "execution_count": 36,
   "metadata": {},
   "outputs": [
    {
     "data": {
      "image/png": "[encoded data removed]",
      "text/plain": [
       "<Figure size 432x288 with 1 Axes>"
      ]
     },
     "metadata": {
      "needs_background": "light"
     },
     "output_type": "display_data"
    }
   ],
   "source": [
    "##### plot between train_loss and cv_loss\n",
    "\n",
    "plt.plot(train_loss, label='train_loss')\n",
    "plt.plot(cv_loss, label='cv_loss')\n",
    "plt.title(\"Train_loss vs cv_loss\")\n",
    "plt.xlabel(\"Number of epochs\")\n",
    "plt.ylabel(\"loss\")\n",
    "plt.legend()\n",
    "plt.show()"
   ]
  },
  {
   "cell_type": "code",
   "execution_count": 37,
   "metadata": {},
   "outputs": [
    {
     "data": {
      "image/png": "[encoded data removed]",
      "text/plain": [
       "<Figure size 432x288 with 1 Axes>"
      ]
     },
     "metadata": {
      "needs_background": "light"
     },
     "output_type": "display_data"
    }
   ],
   "source": [
    "##### plot between train_accuracy and cv_accuracy\n",
    "\n",
    "plt.plot(train_accuracy, label='train_accuracy')\n",
    "plt.plot(cv_accuracy, label='cv_accuracy')\n",
    "plt.title(\"Train_accuracy vs cv_accuracy\")\n",
    "plt.xlabel(\"Number of epochs\")\n",
    "plt.ylabel(\"Accuracy\")\n",
    "plt.legend()\n",
    "plt.show()"
   ]
  }
 ],
 "metadata": {
  "kernelspec": {
   "display_name": "Python 3",
   "language": "python",
   "name": "python3"
  },
  "language_info": {
   "codemirror_mode": {
    "name": "ipython",
    "version": 3
   },
   "file_extension": ".py",
   "mimetype": "text/x-python",
   "name": "python",
   "nbconvert_exporter": "python",
   "pygments_lexer": "ipython3",
   "version": "3.6.7"
  }
 },
 "nbformat": 4,
 "nbformat_minor": 2
}
